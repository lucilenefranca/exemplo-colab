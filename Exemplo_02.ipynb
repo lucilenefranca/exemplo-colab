{
  "nbformat": 4,
  "nbformat_minor": 0,
  "metadata": {
    "colab": {
      "provenance": [],
      "mount_file_id": "1rILIeZ3wlQYZJAXMS1cFIIMGbhiJwAXl",
      "authorship_tag": "ABX9TyPMpaB0L/6SKsu+2Fl6cheb",
      "include_colab_link": true
    },
    "kernelspec": {
      "name": "python3",
      "display_name": "Python 3"
    },
    "language_info": {
      "name": "python"
    },
    "widgets": {
      "application/vnd.jupyter.widget-state+json": {
        "a1d979e0c0da42ab803292e1976dd146": {
          "model_module": "@jupyter-widgets/controls",
          "model_name": "DropdownModel",
          "model_module_version": "1.5.0",
          "state": {
            "_dom_classes": [],
            "_model_module": "@jupyter-widgets/controls",
            "_model_module_version": "1.5.0",
            "_model_name": "DropdownModel",
            "_options_labels": [
              "...",
              "pedido_nao_integrado",
              "entidade_consultar",
              "pedido_status_alterar",
              "entidade_alterar_nome",
              "> Sair"
            ],
            "_view_count": null,
            "_view_module": "@jupyter-widgets/controls",
            "_view_module_version": "1.5.0",
            "_view_name": "DropdownView",
            "description": "Skill: ",
            "description_tooltip": null,
            "disabled": false,
            "index": 1,
            "layout": "IPY_MODEL_35340f8433d44df49ebd8d58c8eb5685",
            "style": "IPY_MODEL_9c27edbc91694c72bf9cb355467aa046"
          }
        },
        "35340f8433d44df49ebd8d58c8eb5685": {
          "model_module": "@jupyter-widgets/base",
          "model_name": "LayoutModel",
          "model_module_version": "1.2.0",
          "state": {
            "_model_module": "@jupyter-widgets/base",
            "_model_module_version": "1.2.0",
            "_model_name": "LayoutModel",
            "_view_count": null,
            "_view_module": "@jupyter-widgets/base",
            "_view_module_version": "1.2.0",
            "_view_name": "LayoutView",
            "align_content": null,
            "align_items": null,
            "align_self": null,
            "border": null,
            "bottom": null,
            "display": null,
            "flex": null,
            "flex_flow": null,
            "grid_area": null,
            "grid_auto_columns": null,
            "grid_auto_flow": null,
            "grid_auto_rows": null,
            "grid_column": null,
            "grid_gap": null,
            "grid_row": null,
            "grid_template_areas": null,
            "grid_template_columns": null,
            "grid_template_rows": null,
            "height": null,
            "justify_content": null,
            "justify_items": null,
            "left": null,
            "margin": null,
            "max_height": null,
            "max_width": null,
            "min_height": null,
            "min_width": null,
            "object_fit": null,
            "object_position": null,
            "order": null,
            "overflow": null,
            "overflow_x": null,
            "overflow_y": null,
            "padding": null,
            "right": null,
            "top": null,
            "visibility": null,
            "width": null
          }
        },
        "9c27edbc91694c72bf9cb355467aa046": {
          "model_module": "@jupyter-widgets/controls",
          "model_name": "DescriptionStyleModel",
          "model_module_version": "1.5.0",
          "state": {
            "_model_module": "@jupyter-widgets/controls",
            "_model_module_version": "1.5.0",
            "_model_name": "DescriptionStyleModel",
            "_view_count": null,
            "_view_module": "@jupyter-widgets/base",
            "_view_module_version": "1.2.0",
            "_view_name": "StyleView",
            "description_width": ""
          }
        }
      }
    }
  },
  "cells": [
    {
      "cell_type": "markdown",
      "metadata": {
        "id": "view-in-github",
        "colab_type": "text"
      },
      "source": [
        "<a href=\"https://colab.research.google.com/github/lucilenefranca/exemplo-colab/blob/main/Exemplo_02.ipynb\" target=\"_parent\"><img src=\"https://colab.research.google.com/assets/colab-badge.svg\" alt=\"Open In Colab\"/></a>"
      ]
    },
    {
      "cell_type": "code",
      "source": [
        "import pandas as pd\n",
        "\n",
        "import ipywidgets as widgets\n",
        "from IPython.display import display\n",
        "\n",
        "from IPython.display import clear_output\n",
        "from IPython.core.display import HTML\n",
        "\n",
        "# ------------------------------------------------------------------------\n",
        "# Montar o Google Drive\n",
        "#drive.mount('/content/drive', force_remount=True)\n",
        "#file_location = '/content/drive/MyDrive/Clear/SF_RoundRobin.xlsm'\n",
        "file_location = \"/content/drive/MyDrive/Clear/SuporteGlobal_Skills.xlsx\"\n",
        "\n",
        "df_Map=pd.read_excel(file_location, sheet_name='Mapeamento')\n",
        "df_Skill=pd.read_excel(file_location, sheet_name='Skills_Talentcard')\n",
        "\n",
        "# ------------------------------------------------------------------------\n",
        "#Skill = input(\"Skill: \")\n",
        "Skill = 'pedido_nao_integrado'\n",
        "lista_skills = ['...', 'pedido_nao_integrado','entidade_consultar','pedido_status_alterar', 'entidade_alterar_nome', '> Sair']\n",
        "\n",
        "lp=True\n",
        "carregando=True\n",
        "Dropdown_ = widgets.Dropdown(\n",
        "    options=lista_skills,\n",
        "    description='Skill: ',\n",
        ")\n",
        "output = widgets.Output()\n",
        "\n",
        "def on_change(change):\n",
        "  if change['new'] == '> Sair':\n",
        "    clear_output()\n",
        "    lp=False\n",
        "    print(\"Fim!\")\n",
        "\n",
        "  elif change['new'] == change['old']:\n",
        "    print('Não alterado')\n",
        "\n",
        "  elif change['new'] == '...':\n",
        "    print('>>>> limpar')\n",
        "    #os.system('clear') or None\n",
        "    clear_output(wait=False)\n",
        "    #Dropdown_.observe(on_change, names='value')\n",
        "    display(Dropdown_)\n",
        "\n",
        "  else:\n",
        "    Skill=change['new']\n",
        "    #os.system('clear') or None\n",
        "    clear_output()\n",
        "    #Dropdown_.observe(on_change, names='value')\n",
        "    display(Dropdown_)\n",
        "    display(\"\") #Skill selecionada: \" + Skill)\n",
        "\n",
        "    # ------------------------------------------------------------------------\n",
        "    # Filtra a Skill selecionada\n",
        "    df_MapFiltrado=df_Map[(df_Map['Skill'] == Skill)]\n",
        "    #dfSkill_filtrado=dfSkill[(dfSkill['Skill'] == Skill)]\n",
        "\n",
        "    # Merge do Mapeamento com o cadastro das Skills\n",
        "    df_MapFull = pd.merge(df_MapFiltrado, df_Skill, how = 'left', on = 'Skill')\n",
        "    #display(df_MapFull)\n",
        "\n",
        "    # Mostra as informações da Skill selecionada\n",
        "    strSkill = \"Assunto: \" + df_MapFull['Assunto'].values[0] + '\\n'\n",
        "    strSkill += \"Escopo: \" + df_MapFull['Escopo_x'].values[0] + '\\n'\n",
        "    strSkill += \"Skill: \" + df_MapFull['Skill'].values[0] + '\\n'\n",
        "    #strSkill += \"Criticidade: \" + df_MapFull['Criticidade(mapa de risco)'].values[0] + '\\n'\n",
        "    #strSkill += \"SLA: \" + df_MapFull['SLA'].values[0]\n",
        "    #print(strSkill)\n",
        "\n",
        "    # Mostra os analistas com a Skill selecionada\n",
        "    strAnalistas = '' #ANALISTAS:\\n'\n",
        "    x=True\n",
        "    for coluna in df_MapFull.columns:\n",
        "      if df_MapFull[coluna].name == \"Skill\":\n",
        "        print(\"\")\n",
        "        #print(\"ANALISTAS:\")\n",
        "\n",
        "      elif df_MapFull[coluna].name == \"Escopo\":\n",
        "        x=False\n",
        "\n",
        "      else:\n",
        "        if x == True:\n",
        "          if 1==1: #df_MapFull[coluna].values > 0:\n",
        "            #print(df_MapFull[coluna].name)\n",
        "            strAnalistas += df_MapFull[coluna].name + '\\n'\n",
        "    #print(strAnalistas)\n",
        "\n",
        "    data = dict(Skill=[strSkill], Analistas=[strAnalistas])\n",
        "    df_Result = pd.DataFrame(data)\n",
        "    #pretty_print(df_Result)\n",
        "    html_result = HTML(df_Result.to_html().replace(\"\\\\n\",\"<br>\"))\n",
        "    display(html_result)\n",
        "\n",
        "#display(df_Result)\n",
        "#pretty_print(df_Result)\n",
        "\n",
        "if lp:\n",
        "  if carregando:\n",
        "    Dropdown_.observe(on_change, names='value')\n",
        "    carregando=False\n",
        "  display(Dropdown_)\n",
        "\n"
      ],
      "metadata": {
        "id": "ONxoJfT_tiQc",
        "colab": {
          "base_uri": "https://localhost:8080/",
          "height": 860,
          "referenced_widgets": [
            "a1d979e0c0da42ab803292e1976dd146",
            "35340f8433d44df49ebd8d58c8eb5685",
            "9c27edbc91694c72bf9cb355467aa046"
          ]
        },
        "outputId": "f625ea51-b789-485f-d65e-55bb1f119d47"
      },
      "execution_count": 17,
      "outputs": [
        {
          "output_type": "display_data",
          "data": {
            "text/plain": [
              "Dropdown(description='Skill: ', index=1, options=('...', 'pedido_nao_integrado', 'entidade_consultar', 'pedido…"
            ],
            "application/vnd.jupyter.widget-view+json": {
              "version_major": 2,
              "version_minor": 0,
              "model_id": "a1d979e0c0da42ab803292e1976dd146"
            }
          },
          "metadata": {}
        },
        {
          "output_type": "display_data",
          "data": {
            "text/plain": [
              "''"
            ],
            "application/vnd.google.colaboratory.intrinsic+json": {
              "type": "string"
            }
          },
          "metadata": {}
        },
        {
          "output_type": "stream",
          "name": "stdout",
          "text": [
            "\n"
          ]
        },
        {
          "output_type": "display_data",
          "data": {
            "text/plain": [
              "<IPython.core.display.HTML object>"
            ],
            "text/html": [
              "<table border=\"1\" class=\"dataframe\">\n",
              "  <thead>\n",
              "    <tr style=\"text-align: right;\">\n",
              "      <th></th>\n",
              "      <th>Skill</th>\n",
              "      <th>Analistas</th>\n",
              "    </tr>\n",
              "  </thead>\n",
              "  <tbody>\n",
              "    <tr>\n",
              "      <th>0</th>\n",
              "      <td>Assunto: Pedido não integrado<br>Escopo: Pedidos<br>Skill: pedido_nao_integrado<br></td>\n",
              "      <td>Escopo_x<br>Escopo ID_Wiki<br>Assunto<br>Assunto ID_Wiki<br>Link Wiki <br>(não preencher)<br>Grupo N2<br>SLA (esforço)<br>zendesk<br>Criticidade<br>(mapa de risco)<br>Skill tem documentação?<br>Grupo N1_x<br>Tipo<br>Impacto<br>Faz execução na base?<br>Wiki Nova<br>Macro Zendesk<br>Tag<br>Marcro SF<br>SLA SF<br>BU<br>Produto<br>Observação<br>Nova<br>Talent<br>Escopo_y<br>Grupo N1_y<br>Amanda<br>Camila<br>Denise<br>Erisla<br>Emanuele<br>Filipe<br>Kaio<br>Leandro<br>Lucas<br>Lucilene<br>Plinio<br>Ok<br>Escopo | Assunto<br>Qt Analista<br></td>\n",
              "    </tr>\n",
              "  </tbody>\n",
              "</table>"
            ]
          },
          "metadata": {}
        }
      ]
    }
  ]
}